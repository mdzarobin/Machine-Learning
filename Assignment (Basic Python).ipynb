{
 "cells": [
  {
   "cell_type": "markdown",
   "id": "9818ffc8",
   "metadata": {},
   "source": [
    "# Python Practice Problems"
   ]
  },
  {
   "cell_type": "markdown",
   "id": "92c96f2f",
   "metadata": {},
   "source": [
    "### 1. Find the Largest of Two Numbers\n",
    "**Task:** Given two numbers, find the larger one.  \n",
    "**Demo Input:**  5 and 6 <br>\n",
    "**Output:** 6\n"
   ]
  },
  {
   "cell_type": "code",
   "execution_count": null,
   "id": "15c848cf",
   "metadata": {},
   "outputs": [],
   "source": [
    "number1 = int(input('Enter number 1 :'))\n",
    "number2 = int(input('Enter number 2 :'))\n",
    "if number1 > number2:\n",
    "    print(f\"{number1} is the largest\")\n",
    "elif number2 > number1:\n",
    "    print(f\"{number2} is the largest\")\n",
    "else:\n",
    "    print(\"Both numbers are equal\")"
   ]
  },
  {
   "cell_type": "markdown",
   "id": "c8c1c683",
   "metadata": {},
   "source": [
    "### 2. Print Numbers from 1 to N\n",
    "**Task**: Given a number `n`, print all numbers from 1 to `n`. <br> \n",
    "**Demo Input**: `5`  <br>\n",
    "**Demo Output**:  1 2 3 4 5\n"
   ]
  },
  {
   "cell_type": "code",
   "execution_count": null,
   "id": "4f9f4529",
   "metadata": {},
   "outputs": [],
   "source": [
    "rangenumber = int(input('Enter range:'))\n",
    "for i in range(rangenumber):\n",
    "    print(i+1)"
   ]
  },
  {
   "cell_type": "markdown",
   "id": "899df468",
   "metadata": {},
   "source": [
    "### 3. Check if a Number is Positive or Negative\n",
    "**Task**: Determine if the input number is positive, negative, or zero.  \n",
    "**Demo Input**: `-3`  \n",
    "**Demo Output**: `The number is Negative`"
   ]
  },
  {
   "cell_type": "code",
   "execution_count": null,
   "id": "56ae285e",
   "metadata": {},
   "outputs": [],
   "source": [
    "num = int(input(\"Enter a number:\"))\n",
    "if num > 0:\n",
    "    print(\"The number is positive\")\n",
    "elif num < 0:\n",
    "    print(\"The number is negative\")\n",
    "elif num ==0:\n",
    "    print(\"The number is zero\")\n",
    "else:\n",
    "    print(\"The number is invalid\")"
   ]
  },
  {
   "cell_type": "markdown",
   "id": "9d865d12",
   "metadata": {},
   "source": [
    "### 4. Calculate the Sum of Digits\n",
    "**Task**: Given a number, find the sum of its digits.  \n",
    "**Demo Input**: `123`  \n",
    "**Demo Output**: `6`  \n",
    "(Explanation: `1+2+3=6`)"
   ]
  },
  {
   "cell_type": "code",
   "execution_count": null,
   "id": "c28b2c6c",
   "metadata": {},
   "outputs": [],
   "source": [
    "num1 = int(input(\"Enter number 1:\"))\n",
    "num2 = int(input(\"Enter number 2:\"))\n",
    "num3 = int(input(\"Enter number 3:\"))\n",
    "sum = num1 + num2 + num3\n",
    "print(sum)"
   ]
  },
  {
   "cell_type": "markdown",
   "id": "a970046f",
   "metadata": {},
   "source": [
    "### 5. Find Factorial of a Number\n",
    "**Task**: Calculate the factorial of a given number.  \n",
    "**Demo Input**: `4`  \n",
    "**Demo Output**: `24`  \n",
    "(Explanation: `4! = 4*3*2*1 = 24`)"
   ]
  },
  {
   "cell_type": "code",
   "execution_count": null,
   "id": "fd5966d2",
   "metadata": {},
   "outputs": [],
   "source": [
    "num = int(input(\"Enter a number: \"))\n",
    "factor = 1\n",
    "if num < 0:\n",
    "   print(\"factorial is not possible for negative numbers\")\n",
    "elif num == 0:\n",
    "   print(\"The factorial of 0 is 1\")\n",
    "else:\n",
    "   for i in range(1,num + 1):\n",
    "       factor = factor*i\n",
    "   print(\"The factorial of\",num,\"is\",factor)"
   ]
  },
  {
   "cell_type": "markdown",
   "id": "c8798099",
   "metadata": {},
   "source": [
    "### 6. Count Occurrences of a Digit\n",
    "**Task**: Count how many times a specific digit appears max in a number.  \n",
    "**Demo Input**:  1233321 <br>\n",
    "**Demo Output**: `3`  <br>\n",
    "(Explanation: `3` appears 3 times in `1233321`)"
   ]
  },
  {
   "cell_type": "code",
   "execution_count": null,
   "id": "5772f0e6",
   "metadata": {},
   "outputs": [],
   "source": [
    "number = input('Enter the full number:')\n",
    "digitsearch = input('Enter the digit you want to search:')\n",
    "print(number.count(digitsearch))"
   ]
  },
  {
   "cell_type": "markdown",
   "id": "b7f985bc",
   "metadata": {},
   "source": [
    "### 7. Find the GCD of Two Numbers\n",
    "**Task**: Find the greatest common divisor (GCD) of two numbers.  \n",
    "**Demo Input**: 8 and 12 <br>\n",
    "**Demo Output**: `4`"
   ]
  },
  {
   "cell_type": "code",
   "execution_count": null,
   "id": "a467887d",
   "metadata": {},
   "outputs": [],
   "source": [
    "import math\n",
    "num1 = int(input(\"Enter the first number : \"))\n",
    "num2 = int(input(\"Enter the second number: \"))\n",
    "print (math.gcd(num1, num2))"
   ]
  },
  {
   "cell_type": "markdown",
   "id": "14c6a2fd",
   "metadata": {},
   "source": [
    "### 8. Reverse a String\n",
    "**Task**: Reverse the given string.  \n",
    "**Demo Input**: `\"aiquest\"`  \n",
    "**Demo Output**: `\"tseuqia\"`"
   ]
  },
  {
   "cell_type": "code",
   "execution_count": null,
   "id": "bd22e158",
   "metadata": {},
   "outputs": [],
   "source": [
    "givenstring = input(\"Enter the string you want to reverse: \")\n",
    "reversedstring = givenstring[::-1]\n",
    "print(reversedstring)"
   ]
  },
  {
   "cell_type": "markdown",
   "id": "88317dfd",
   "metadata": {},
   "source": [
    "### 9. Check Armstrong Number\n",
    "**Task**: Check if a number is an Armstrong number (the sum of its digits raised to the power of the number of digits equals the number).  \n",
    "**Demo Input**: `153`  \n",
    "**Demo Output**: `153 is an Armstrong Number`  \n",
    "(Explanation: \\(1^3 + 5^3 + 3^3 = 153\\))"
   ]
  },
  {
   "cell_type": "code",
   "execution_count": null,
   "id": "2602ff94",
   "metadata": {},
   "outputs": [],
   "source": [
    "num = int(input(\"Enter a number: \"))\n",
    "sum = 0\n",
    "temp = num\n",
    "while temp > 0:\n",
    "    digit = temp % 10\n",
    "    sumdigit= digit ** 3\n",
    "    sum = sum + sumdigit\n",
    "    temp //= 10\n",
    "if num == sum:\n",
    "     print(num,\"is an Armstrong number\")\n",
    "else:\n",
    "   print(num,\"is not an Armstrong number\")"
   ]
  },
  {
   "cell_type": "markdown",
   "id": "0905a3cc",
   "metadata": {},
   "source": [
    "### 10. Generate a Pattern\n",
    "**Task**: Print a pyramid pattern with `n` rows.  \n",
    "**Demo input:** 4 <br>\n",
    "**Output:** You will see the pyramid pattern with 4 rows"
   ]
  },
  {
   "cell_type": "code",
   "execution_count": null,
   "id": "83d8b483",
   "metadata": {},
   "outputs": [],
   "source": [
    "rows = int(input(\"Enter number of rows: \"))\n",
    "for i in range(1, rows + 1):\n",
    "    # Print spaces\n",
    "    for space in range(1, (rows - i) + 1):\n",
    "        print(end=\"  \")\n",
    "    # Print stars\n",
    "    for j in range(1, (2 * i)):\n",
    "        print(\"* \", end=\"\")\n",
    "    # Move to the next line\n",
    "    print()"
   ]
  },
  {
   "cell_type": "markdown",
   "id": "ec723917",
   "metadata": {},
   "source": [
    "# Good Luck!"
   ]
  }
 ],
 "metadata": {
  "kernelspec": {
   "display_name": "Python 3 (ipykernel)",
   "language": "python",
   "name": "python3"
  },
  "language_info": {
   "codemirror_mode": {
    "name": "ipython",
    "version": 3
   },
   "file_extension": ".py",
   "mimetype": "text/x-python",
   "name": "python",
   "nbconvert_exporter": "python",
   "pygments_lexer": "ipython3",
   "version": "3.13.5"
  }
 },
 "nbformat": 4,
 "nbformat_minor": 5
}
