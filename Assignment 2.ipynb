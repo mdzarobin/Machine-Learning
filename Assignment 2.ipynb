{
 "cells": [
  {
   "cell_type": "markdown",
   "id": "9818ffc8",
   "metadata": {},
   "source": [
    "# Python Practice Problems"
   ]
  },
  {
   "cell_type": "markdown",
   "id": "92c96f2f",
   "metadata": {},
   "source": [
    "1. Variable Swap\n"
   ]
  },
  {
   "cell_type": "code",
   "execution_count": 1,
   "id": "15c848cf",
   "metadata": {},
   "outputs": [
    {
     "name": "stdout",
     "output_type": "stream",
     "text": [
      "7\n",
      "11\n"
     ]
    }
   ],
   "source": [
    "# swap the values\n",
    "a = 11\n",
    "b = 7\n",
    "a, b = b, a\n",
    "print(a)\n",
    "print(b)"
   ]
  },
  {
   "cell_type": "markdown",
   "id": "c8c1c683",
   "metadata": {},
   "source": [
    "2. Even or Odd: Write a Python program that takes an integer as input and prints whether it is even or odd."
   ]
  },
  {
   "cell_type": "code",
   "execution_count": null,
   "id": "4f9f4529",
   "metadata": {},
   "outputs": [],
   "source": [
    "number = int(input(\"Enter a number \"))\n",
    "if number % 2 == 0:\n",
    "    print(\"Even\")\n",
    "else:\n",
    "    print(\"Odd\")"
   ]
  },
  {
   "cell_type": "markdown",
   "id": "899df468",
   "metadata": {},
   "source": [
    "3. String Reverse: Write a Python function to reverse a given string and return the reversed string."
   ]
  },
  {
   "cell_type": "code",
   "execution_count": null,
   "id": "56ae285e",
   "metadata": {},
   "outputs": [],
   "source": [
    "givenstring = input(\"Enter the string you want to reverse: \")\n",
    "reversedstring = givenstring[::-1]\n",
    "print(reversedstring)"
   ]
  },
  {
   "cell_type": "markdown",
   "id": "9d865d12",
   "metadata": {},
   "source": [
    "4. Type Conversion: Given a list of integers, write a Python program to convert each element of the list to a string."
   ]
  },
  {
   "cell_type": "code",
   "execution_count": null,
   "id": "c28b2c6c",
   "metadata": {},
   "outputs": [],
   "source": []
  },
  {
   "cell_type": "markdown",
   "id": "a970046f",
   "metadata": {},
   "source": [
    "5. Temperature Converter: Write a Python program that converts a temperature in Celsius to Fahrenheit. Take the Celsius temperature as input from the user."
   ]
  },
  {
   "cell_type": "code",
   "execution_count": null,
   "id": "fd5966d2",
   "metadata": {},
   "outputs": [],
   "source": [
    "#Python program that converts a temperature in Celsius to Fahrenheit.\n",
    "celsius = float(input(\"Enter temperature in Celsius: \"))\n",
    "fahrenheit = (celsius * 9/5) + 32\n",
    "print(f\"{celsius} degrees Celsius is equal to {fahrenheit} degrees Fahrenheit.\")"
   ]
  },
  {
   "cell_type": "markdown",
   "id": "c8798099",
   "metadata": {},
   "source": [
    "6. Data Type Checker: Write a Python function that takes a variable as input and returns the data type of the variable as a string (e.g., “int”, “float”, “str”, “list”, etc.)."
   ]
  },
  {
   "cell_type": "code",
   "execution_count": null,
   "id": "5772f0e6",
   "metadata": {},
   "outputs": [],
   "source": [
    "#Python Data Type Checker:\n",
    "input1 = input(\"Enter a number or word \")\n",
    "print(type(input1))"
   ]
  },
  {
   "cell_type": "markdown",
   "id": "b7f985bc",
   "metadata": {},
   "source": [
    "7. String Palindrome: Write a Python function to check if a given string is a palindrome or not.\n",
    "\n"
   ]
  },
  {
   "cell_type": "code",
   "execution_count": null,
   "id": "a467887d",
   "metadata": {},
   "outputs": [],
   "source": []
  },
  {
   "cell_type": "markdown",
   "id": "14c6a2fd",
   "metadata": {},
   "source": [
    "8. String Reversal with Slicing: Write a Python function to reverse a given string using slicing."
   ]
  },
  {
   "cell_type": "code",
   "execution_count": null,
   "id": "bd22e158",
   "metadata": {},
   "outputs": [],
   "source": [
    " #String Reversal with Slicing\n",
    "s = input('Enter a string:')\n",
    "print(s[::-1])"
   ]
  },
  {
   "cell_type": "markdown",
   "id": "88317dfd",
   "metadata": {},
   "source": [
    "9. String Concatenation: Write a Python program that takes two strings as input and concatenates them into a single string without using the `+` operator."
   ]
  },
  {
   "cell_type": "code",
   "execution_count": null,
   "id": "2602ff94",
   "metadata": {},
   "outputs": [],
   "source": [
    "#String Concatenation\n",
    "s1 = input('Enter string 1')\n",
    "s2 = input('Enter string 2')\n",
    "print('Concatenated String is', \"\".join([s1, s2]))"
   ]
  },
  {
   "cell_type": "code",
   "execution_count": null,
   "id": "e919d55a-beee-4d67-8e1a-23a93809bea6",
   "metadata": {},
   "outputs": [],
   "source": [
    "10. Typecasting Challenge: Given three variables: `a = ‘100’`, `b = 25`, and `c = ‘10.5’`,\n",
    "write a Python program to perform the following operations and print the results: – Convert `a` to an integer and add it to `b`. – Convert `c` \n",
    "to a float and subtract it from the result of the first operation. – Convert the final result to a string and concatenate it \n",
    "with the string ” is the answer.”"
   ]
  },
  {
   "cell_type": "markdown",
   "id": "0905a3cc",
   "metadata": {},
   "source": [
    "a=100\n",
    "b= 25\n",
    "c=25.5\n",
    "a = int(a)\n",
    "temp =a +b\n",
    "c = float(c)\n",
    "result = temp-c\n",
    "result = str(result)\n",
    "print(f'{result}, is the answer')"
   ]
  },
  {
   "cell_type": "code",
   "execution_count": null,
   "id": "97c2918c-dd1d-4c8b-b2e7-57e575bfe8a5",
   "metadata": {},
   "outputs": [],
   "source": [
    "11. Positive, Negative, or Zero: Write a Python program that takes a number as input and prints whether it is positive, negative, or zero."
   ]
  },
  {
   "cell_type": "code",
   "execution_count": null,
   "id": "3e7c07bd-3bae-465d-8a5d-2c453bda609d",
   "metadata": {},
   "outputs": [],
   "source": [
    "num = int(input(\"Enter a number:\"))\n",
    "if num > 0:\n",
    "    print(\"The number is positive\")\n",
    "elif num < 0:\n",
    "    print(\"The number is negative\")\n",
    "elif num ==0:\n",
    "    print(\"The number is zero\")\n",
    "else:\n",
    "    print(\"The number is invalid\")"
   ]
  },
  {
   "cell_type": "code",
   "execution_count": null,
   "id": "cd1f9eac-56db-4991-886e-e97f3ebeb46e",
   "metadata": {},
   "outputs": [],
   "source": [
    "12. Largest of Three Numbers: Write a Python program that takes three numbers as input and prints the largest among them."
   ]
  },
  {
   "cell_type": "code",
   "execution_count": null,
   "id": "fe2658fe-2795-4ad2-a99f-9b631161990b",
   "metadata": {},
   "outputs": [],
   "source": [
    "number1 = int(input('Enter number 1 :'))\n",
    "number2 = int(input('Enter number 2 :'))\n",
    "number3 = int(input('Enter number 3 :'))\n",
    "if number1> number2:\n",
    "    largenumber = number1\n",
    "else:\n",
    "    largenumber = number2\n",
    "if largenumber> number3:\n",
    "    print(f'The largest number is: {largenumber}')\n",
    "else:\n",
    "    print(f'The largest number is: {number3}')"
   ]
  },
  {
   "cell_type": "code",
   "execution_count": null,
   "id": "00a9e5f6-a62c-423c-b044-c91fb0849072",
   "metadata": {},
   "outputs": [],
   "source": [
    "13. Leap Year Checker: Write a Python program that takes a year as input and determines if it is a leap year or not.\n"
   ]
  },
  {
   "cell_type": "code",
   "execution_count": null,
   "id": "a2d024d2-a20d-4f28-bb9c-d84522903e44",
   "metadata": {},
   "outputs": [],
   "source": [
    "year1 = int(input('Enter year you want to check for leap year:'))\n",
    "if year1 % 4 == 0:\n",
    "\n",
    "    print(f'{year1} is a leap year ')\n",
    "else:\n",
    "    print(f'{year1} is not a leap year ')"
   ]
  },
  {
   "cell_type": "code",
   "execution_count": null,
   "id": "0fa51f08-a854-4d21-b1c7-9c132be62fc3",
   "metadata": {},
   "outputs": [],
   "source": [
    "14. Grades Classification: Write a Python program that takes a student’s percentage as input and prints their corresponding grade according to the following criteria: – 90% or above: A+ – 80-89%: A – 70-79%: B – 60-69%: C – Below 60%: Fail\n"
   ]
  },
  {
   "cell_type": "code",
   "execution_count": null,
   "id": "d84a5877-fe82-44bf-ba85-d49173c76370",
   "metadata": {},
   "outputs": [],
   "source": [
    "#Grades Classification\n",
    "try:\n",
    "    marks = float(input(\"Please enter the marks (0-100): \"))\n",
    "    if 0 <= marks <= 100:\n",
    "        if marks >= 90:\n",
    "            grade = 'A+'\n",
    "        elif marks >= 80:\n",
    "            grade = 'A-'\n",
    "        elif marks >= 70:\n",
    "            grade = 'B-'\n",
    "        elif marks >= 60:\n",
    "            grade = 'C'\n",
    "        else:\n",
    "            grade = 'F'\n",
    "        print(\"Grade:\", grade)\n",
    "    else:\n",
    "        print(\"Invalid marks. Please enter a value between 0 and 100.\")\n",
    "except ValueError:\n",
    "    print(\"Invalid input. Please enter a numeric value.\")"
   ]
  },
  {
   "cell_type": "code",
   "execution_count": null,
   "id": "e78425a6-c2b3-4014-a9aa-c760da6b9a33",
   "metadata": {},
   "outputs": [],
   "source": [
    "15. Vowel or Consonant: Write a Python program that takes a single character as input and determines whether it is a vowel or a consonant."
   ]
  },
  {
   "cell_type": "code",
   "execution_count": null,
   "id": "eeefcb88-e0d1-4619-865d-47505d37e875",
   "metadata": {},
   "outputs": [],
   "source": [
    "def checkletter(x):\n",
    "    if (x == 'a' or x == 'e' or\n",
    "        x == 'i' or x == 'o' or x == 'u'):\n",
    "        print(\"Vowel\")\n",
    "    else:\n",
    "        print(\"Consonant\")\n",
    "x = input('Enter a letter to check :')\n",
    "checkletter(x)"
   ]
  },
  {
   "cell_type": "code",
   "execution_count": null,
   "id": "7d895671-5463-4b31-bb1d-dde1eec4c435",
   "metadata": {},
   "outputs": [],
   "source": [
    "16. Time Classification: Write a Python program that takes the time in hours (24-hour format) as\n",
    "input and prints “Good Morning”, “Good Afternoon”, “Good Evening”, or “Good Night” based on the time."
   ]
  },
  {
   "cell_type": "code",
   "execution_count": null,
   "id": "b64ba1fa-af8a-47d9-b5fa-d36cba89769d",
   "metadata": {},
   "outputs": [],
   "source": [
    "# Time Classification Program\n",
    "hour = int(input(\"Enter the time in hours (0–23): \"))\n",
    "# Check and classify the time\n",
    "if 0 <= hour < 12:\n",
    "    print(\"Good Morning\")\n",
    "elif 12 <= hour < 17:\n",
    "    print(\"Good Afternoon\")\n",
    "elif 17 <= hour < 21:\n",
    "    print(\"Good Evening\")\n",
    "elif 21 <= hour <= 23:\n",
    "    print(\"Good Night\")\n",
    "else:\n",
    "    print(\"Invalid hour! Please enter a value between 0 and 23.\")"
   ]
  },
  {
   "cell_type": "code",
   "execution_count": null,
   "id": "751ae019-0c0b-498e-951f-190e96c2696a",
   "metadata": {},
   "outputs": [],
   "source": [
    "17. Triangle Type Checker: Write a Python program that takes\n",
    "three sides of a triangle as input and determines whether it forms an equilateral, isosceles, or scalene triangle."
   ]
  },
  {
   "cell_type": "code",
   "execution_count": null,
   "id": "3d206cab-4a29-481e-85cb-5d9cbf12e258",
   "metadata": {},
   "outputs": [],
   "source": [
    "print(\"Input lengths of the triangle sides: \")\n",
    "x = int(input(\"Enter x: \"))\n",
    "y = int(input(\"Enter y: \"))\n",
    "z = int(input(\"Enter z: \"))\n",
    "# If all sides are equal, display that it's an equilateral triangle\n",
    "if x == y == z:\n",
    "    print(\"Equilateral triangle\")\n",
    "# If at least two sides are equal, display that it's an isosceles triangle\n",
    "elif x == y or y == z or z == x:\n",
    "    print(\"Isosceles triangle\")\n",
    "# If all sides have different lengths, display that it's a scalene triangle\n",
    "else:\n",
    "    print(\"Scalene triangle\")"
   ]
  },
  {
   "cell_type": "code",
   "execution_count": null,
   "id": "eda2644e-96e4-48ea-a02d-a1ff3b15a60c",
   "metadata": {},
   "outputs": [],
   "source": [
    "18. Quadratic Equation Solver: Write a Python program that takes the coefficients (a, b, c) of\n",
    "a quadratic equation as input and calculates and prints the real roots (if they exist) or a message indicating the complex roots."
   ]
  },
  {
   "cell_type": "code",
   "execution_count": null,
   "id": "77456b9f-1757-4244-b341-d1231e6e4927",
   "metadata": {},
   "outputs": [],
   "source": []
  },
  {
   "cell_type": "code",
   "execution_count": null,
   "id": "a6beda55-653e-419e-b974-2d5e965686bd",
   "metadata": {},
   "outputs": [],
   "source": [
    "19. Number Ranges: Write a Python program that takes an integer as input and prints whether the number falls within\n",
    "the ranges: 0-50, 51-100, 101-150, or above 150."
   ]
  },
  {
   "cell_type": "code",
   "execution_count": null,
   "id": "afba9fb1-f5cc-4746-b518-2453f2480d49",
   "metadata": {},
   "outputs": [],
   "source": []
  },
  {
   "cell_type": "code",
   "execution_count": null,
   "id": "5d8772ea-4740-4e2c-b983-ec5229ee97f2",
   "metadata": {},
   "outputs": [],
   "source": [
    "20. Sum of N Numbers: Write a Python program using a for loop to calculate the sum of the first N natural numbers,\n",
    "where N is taken as input from the user."
   ]
  },
  {
   "cell_type": "code",
   "execution_count": null,
   "id": "bdf59f79-3575-4ad4-a2ed-7f9e21146484",
   "metadata": {},
   "outputs": [],
   "source": []
  },
  {
   "cell_type": "code",
   "execution_count": null,
   "id": "e3fa93b0-b509-4de6-955f-7a9c669ea3b0",
   "metadata": {},
   "outputs": [],
   "source": [
    "21. Factorial Calculator: Write a Python program using a while loop to calculate the factorial of a given number N."
   ]
  },
  {
   "cell_type": "code",
   "execution_count": null,
   "id": "8a8af86c-7634-4316-8555-cac73f7c6aaf",
   "metadata": {},
   "outputs": [],
   "source": []
  },
  {
   "cell_type": "code",
   "execution_count": null,
   "id": "22a1d726-1042-499e-9181-0375212c7a80",
   "metadata": {},
   "outputs": [],
   "source": [
    "22. Table of a Number: Write a Python program using a for loop to print the multiplication table of a given number N."
   ]
  },
  {
   "cell_type": "code",
   "execution_count": null,
   "id": "ba2f1fc0-e6fc-4c95-8b5b-d0d69ee9e4c3",
   "metadata": {},
   "outputs": [],
   "source": []
  },
  {
   "cell_type": "code",
   "execution_count": null,
   "id": "3507182e-4a4a-4b60-b195-0a7d1e60c07a",
   "metadata": {},
   "outputs": [],
   "source": [
    "23. Count Digits in a Number: Write a Python program using a while loop to count the number of digits in a given integer N."
   ]
  },
  {
   "cell_type": "code",
   "execution_count": null,
   "id": "ac2a2ba9-ea6c-4acb-8133-e800e2773345",
   "metadata": {},
   "outputs": [],
   "source": []
  },
  {
   "cell_type": "code",
   "execution_count": null,
   "id": "a4c559de-c38e-4387-8698-7b9812f6461d",
   "metadata": {},
   "outputs": [],
   "source": [
    "24. Fibonacci Sequence: Write a Python program using a for loop to generate the Fibonacci sequence up to a given limit N."
   ]
  },
  {
   "cell_type": "code",
   "execution_count": null,
   "id": "f5d80202-dedd-48ee-bcba-e7cbb679f2a4",
   "metadata": {},
   "outputs": [],
   "source": []
  },
  {
   "cell_type": "code",
   "execution_count": null,
   "id": "0845e294-f4f9-42cf-91fb-84586eb8e410",
   "metadata": {},
   "outputs": [],
   "source": [
    "25. Sum of Even Numbers: Write a Python program using a while loop to calculate the sum of all even numbers\n",
    "between 1 and N, where N is taken as input from the user."
   ]
  },
  {
   "cell_type": "code",
   "execution_count": null,
   "id": "0458059f-135c-403d-960f-7ad0d9f9cc9a",
   "metadata": {},
   "outputs": [],
   "source": [
    "def even_sum(number):\n",
    "    return sum(range(0, number + 1, 2))\n",
    "number = int(input('enter number to limit :'))\n",
    "print(even_sum(number))"
   ]
  },
  {
   "cell_type": "code",
   "execution_count": null,
   "id": "354b3eaf-f012-4bc6-b30d-7b501848c5f2",
   "metadata": {},
   "outputs": [],
   "source": []
  },
  {
   "cell_type": "code",
   "execution_count": null,
   "id": "48dd319f-f9d1-4b8d-9d3b-43d30db1ea24",
   "metadata": {},
   "outputs": [],
   "source": [
    "26. Print Patterns: Write a Python program using nested for loops to print various patterns, such as a right-angled triangle, an inverted right-angled triangle, and so on.\n"
   ]
  },
  {
   "cell_type": "code",
   "execution_count": null,
   "id": "928d6ccf-b22e-4907-a9a6-ade49e3bb172",
   "metadata": {},
   "outputs": [],
   "source": []
  },
  {
   "cell_type": "code",
   "execution_count": null,
   "id": "689b2d4e-f74b-4d60-b49b-57fd2fcf83e7",
   "metadata": {},
   "outputs": [],
   "source": [
    "27. Prime Number Checker: Write a Python program using a while loop to check if a given number N is prime or not."
   ]
  },
  {
   "cell_type": "code",
   "execution_count": null,
   "id": "79198450-4af1-40ef-93dc-a6c74b806c2d",
   "metadata": {},
   "outputs": [],
   "source": []
  },
  {
   "cell_type": "code",
   "execution_count": null,
   "id": "91bd8bff-8a94-4c2b-9c21-0b7f459b37f0",
   "metadata": {},
   "outputs": [],
   "source": [
    "28. List Manipulation: Given a list of integers, write a Python program \n",
    "using a for loop to find the sum, average, maximum, and minimum values in the list."
   ]
  },
  {
   "cell_type": "code",
   "execution_count": null,
   "id": "4191323c-0ab6-49be-a614-e33ea79dc317",
   "metadata": {},
   "outputs": [],
   "source": []
  },
  {
   "cell_type": "code",
   "execution_count": null,
   "id": "22a886e4-ff95-4aa4-983b-6d4898872fa7",
   "metadata": {},
   "outputs": [],
   "source": [
    "29. Reverse String: Write a Python program using a while loop to reverse a given string."
   ]
  },
  {
   "cell_type": "code",
   "execution_count": 2,
   "id": "2ef6ffa2-3e8b-42e0-acb8-2348f2b0374b",
   "metadata": {},
   "outputs": [
    {
     "name": "stdin",
     "output_type": "stream",
     "text": [
      "Enter a string:  robin\n"
     ]
    },
    {
     "name": "stdout",
     "output_type": "stream",
     "text": [
      "Reversed string: nibor\n"
     ]
    }
   ],
   "source": [
    "string = input(\"Enter a string: \")\n",
    "reversed_string = \"\"\n",
    "index = len(string) - 1\n",
    "# Use while loop to reverse the string\n",
    "while index >= 0:\n",
    "    reversed_string += string[index]\n",
    "    index -= 1\n",
    "print(\"Reversed string:\", reversed_string)"
   ]
  },
  {
   "cell_type": "code",
   "execution_count": null,
   "id": "7883a4b5-2c4f-4298-8b4e-bdab7336a586",
   "metadata": {},
   "outputs": [],
   "source": [
    "30. Multiplication Table: Write a Python program using nested loops to print the multiplication table from 1 to 10."
   ]
  },
  {
   "cell_type": "code",
   "execution_count": null,
   "id": "a5ef07d4-6b55-40b2-9f25-80bb252cc6cf",
   "metadata": {},
   "outputs": [],
   "source": []
  },
  {
   "cell_type": "code",
   "execution_count": null,
   "id": "a2d6f121-44d7-4d2b-95c2-5cba83956003",
   "metadata": {},
   "outputs": [],
   "source": [
    "31. Print Patterns: Write a Python program using nested loops to print the following pattern:"
   ]
  },
  {
   "cell_type": "code",
   "execution_count": null,
   "id": "930facfd-88cc-494e-809f-8a7d9de4398b",
   "metadata": {},
   "outputs": [],
   "source": []
  },
  {
   "cell_type": "code",
   "execution_count": null,
   "id": "15a3ab7b-6033-4caa-a1f7-42225e3bf8fe",
   "metadata": {},
   "outputs": [],
   "source": [
    "32. Matrix Multiplication: Write a Python program using nested loops to multiply two matrices.\n"
   ]
  },
  {
   "cell_type": "code",
   "execution_count": null,
   "id": "103be0de-0a78-4a3f-a6b4-869d80f0a571",
   "metadata": {},
   "outputs": [],
   "source": []
  },
  {
   "cell_type": "code",
   "execution_count": null,
   "id": "3cf3dab6-80b2-4eaa-a01e-a991cf55a621",
   "metadata": {},
   "outputs": [],
   "source": [
    "33. Chessboard Pattern: Write a Python program using nested loops to print a chessboard pattern\n",
    "(alternating “X” and “O” characters) of size 8×8.34. Number Pyramid: Write a Python program using nested loops to print\n",
    "a number pyramid like the following: 1 22 333 4444 55555"
   ]
  },
  {
   "cell_type": "code",
   "execution_count": null,
   "id": "f6be8349-883d-488f-8c0b-9d770438a229",
   "metadata": {},
   "outputs": [],
   "source": []
  },
  {
   "cell_type": "code",
   "execution_count": null,
   "id": "d8897da4-fae0-4b7d-8289-7023489bc25c",
   "metadata": {},
   "outputs": [],
   "source": [
    "34. List Sum: Write a Python program to find the sum of all elements in a given list of integers."
   ]
  },
  {
   "cell_type": "code",
   "execution_count": 3,
   "id": "3419b956-83cf-4aa2-b241-99c6a4b80bf4",
   "metadata": {},
   "outputs": [
    {
     "name": "stdout",
     "output_type": "stream",
     "text": [
      "12\n"
     ]
    }
   ],
   "source": [
    "my_list = [3,4,5]\n",
    "total = sum(my_list)\n",
    "print(total)"
   ]
  },
  {
   "cell_type": "code",
   "execution_count": null,
   "id": "ad7a7da2-d06d-4187-86ea-279f2e3bd36c",
   "metadata": {},
   "outputs": [],
   "source": [
    "35. List Average: Write a Python program to calculate the average of all elements in a given list of integers."
   ]
  },
  {
   "cell_type": "code",
   "execution_count": 4,
   "id": "b34ccfba-0c61-4777-b0f9-0dcafef673d9",
   "metadata": {},
   "outputs": [
    {
     "name": "stdout",
     "output_type": "stream",
     "text": [
      "4.0\n"
     ]
    }
   ],
   "source": [
    "my_list = [3,4,5]\n",
    "total = sum(my_list)\n",
    "average = total / len(my_list)\n",
    "print(average)"
   ]
  },
  {
   "cell_type": "code",
   "execution_count": null,
   "id": "00a509f8-6560-4bae-95f9-968e0af67a26",
   "metadata": {},
   "outputs": [],
   "source": [
    "36. List Max and Min: Write a Python program to find the maximum and minimum values in a given list of integers."
   ]
  },
  {
   "cell_type": "code",
   "execution_count": 5,
   "id": "04ce59dc-81e6-4459-8899-d7a520c1d084",
   "metadata": {},
   "outputs": [
    {
     "name": "stdout",
     "output_type": "stream",
     "text": [
      "3\n",
      "5\n"
     ]
    }
   ],
   "source": [
    "my_list = [3,4,5]\n",
    "print(min(my_list))\n",
    "print(max(my_list))"
   ]
  },
  {
   "cell_type": "code",
   "execution_count": null,
   "id": "a6367144-db81-4b07-b8bc-b15e8f612c68",
   "metadata": {},
   "outputs": [],
   "source": [
    "37. List Sorting: Write a Python program to sort a list of integers in ascending order.\n"
   ]
  },
  {
   "cell_type": "code",
   "execution_count": null,
   "id": "6a52a219-9853-41a5-9441-68e656e67a29",
   "metadata": {},
   "outputs": [],
   "source": [
    "my_list = [3,4,5]\n",
    "print(sorted(my_list))"
   ]
  },
  {
   "cell_type": "code",
   "execution_count": null,
   "id": "58d4cf9b-dac7-45dc-a6d8-837f0921a4bc",
   "metadata": {},
   "outputs": [],
   "source": [
    "38. List Filtering: Given a list of integers, write a Python program to create a new list that contains only the even numbers from the original list."
   ]
  },
  {
   "cell_type": "code",
   "execution_count": null,
   "id": "5296b36a-0365-4e87-bbaf-cd0538b51278",
   "metadata": {},
   "outputs": [],
   "source": []
  },
  {
   "cell_type": "code",
   "execution_count": null,
   "id": "26949a59-cf7d-41b8-b7e7-79fba6908017",
   "metadata": {},
   "outputs": [],
   "source": [
    "39. List Reversal: Write a Python program to reverse a given list without using any built-in functions."
   ]
  },
  {
   "cell_type": "code",
   "execution_count": null,
   "id": "fef4ac66-fb0c-4484-b4ff-7b5987429610",
   "metadata": {},
   "outputs": [],
   "source": []
  },
  {
   "cell_type": "code",
   "execution_count": null,
   "id": "abafab47-df26-4eca-937a-88e202bf58ff",
   "metadata": {},
   "outputs": [],
   "source": [
    "40. List Manipulation: Given two lists of integers, write a Python program to create a new list that contains elements common to both lists."
   ]
  },
  {
   "cell_type": "code",
   "execution_count": null,
   "id": "c922e013-18e0-4f3c-a2ea-91f58dd56470",
   "metadata": {},
   "outputs": [],
   "source": []
  },
  {
   "cell_type": "code",
   "execution_count": null,
   "id": "ed0950ee-477f-41af-962d-873307a9c817",
   "metadata": {},
   "outputs": [],
   "source": [
    "41. List Element Count: Write a Python program to count the occurrences of a specific element in a given list."
   ]
  },
  {
   "cell_type": "code",
   "execution_count": null,
   "id": "41fb4d90-77df-4fe8-82c9-37aff38c3cdc",
   "metadata": {},
   "outputs": [],
   "source": []
  },
  {
   "cell_type": "code",
   "execution_count": null,
   "id": "bcf372e9-c97e-49b2-a01a-dfa8917d1feb",
   "metadata": {},
   "outputs": [],
   "source": [
    "42. List Duplicates Removal: Write a Python program to remove duplicates from a given list while preserving the order of the elements.\n"
   ]
  },
  {
   "cell_type": "code",
   "execution_count": null,
   "id": "f1fcd461-7f24-4b33-a295-b9938632e68c",
   "metadata": {},
   "outputs": [],
   "source": []
  },
  {
   "cell_type": "code",
   "execution_count": null,
   "id": "ce9c2544-8704-4c52-9b6a-14d5d720d22c",
   "metadata": {},
   "outputs": [],
   "source": [
    "43. List Comprehension: Given a list of integers, write a Python program to \n",
    "create a new list that contains the squares of the elements using list comprehension."
   ]
  },
  {
   "cell_type": "code",
   "execution_count": null,
   "id": "617ed4f0-0a00-4f8a-831b-8679f0798014",
   "metadata": {},
   "outputs": [],
   "source": []
  },
  {
   "cell_type": "code",
   "execution_count": null,
   "id": "3ed04865-8c5d-4846-ae66-d981bb36054f",
   "metadata": {},
   "outputs": [],
   "source": [
    "44. Matrix Addition: Write a Python program to add two matrices represented as nested lists."
   ]
  },
  {
   "cell_type": "code",
   "execution_count": null,
   "id": "dd4e45a1-8d96-4bf7-9ae6-bf0a670f8b2a",
   "metadata": {},
   "outputs": [],
   "source": []
  },
  {
   "cell_type": "code",
   "execution_count": null,
   "id": "fb3abbd8-7b89-4148-8b4f-b5a52a75845f",
   "metadata": {},
   "outputs": [],
   "source": [
    "45. Flatten Nested List: Write a Python program to flatten a given nested list and convert it into a single-dimensional list."
   ]
  },
  {
   "cell_type": "code",
   "execution_count": null,
   "id": "5d223ff2-178c-489a-9da5-cff0f71ef778",
   "metadata": {},
   "outputs": [],
   "source": []
  },
  {
   "cell_type": "code",
   "execution_count": null,
   "id": "cd22f9a3-8779-492c-ab46-d8a01ba3cc14",
   "metadata": {},
   "outputs": [],
   "source": [
    "46. List Element Frequency: Given a nested list containing lists of integers, write a Python program \n",
    "to count the frequency of each element in the entire nested lis"
   ]
  },
  {
   "cell_type": "code",
   "execution_count": null,
   "id": "92440fba-7edc-49bf-a38c-213b796d1c6d",
   "metadata": {},
   "outputs": [],
   "source": []
  },
  {
   "cell_type": "code",
   "execution_count": null,
   "id": "d7f30439-5815-48db-a4d7-e8693e1b8867",
   "metadata": {},
   "outputs": [],
   "source": [
    "47. Transpose Matrix: Write a Python program to transpose a given matrix represented as a nested list."
   ]
  },
  {
   "cell_type": "code",
   "execution_count": null,
   "id": "960e8d4b-5226-4117-973b-efbb72760e9c",
   "metadata": {},
   "outputs": [],
   "source": []
  },
  {
   "cell_type": "code",
   "execution_count": null,
   "id": "e63b95de-f07a-4f50-a876-229f863827ed",
   "metadata": {},
   "outputs": [],
   "source": [
    "48. List of Lists Concatenation: Given a list of nested lists, write a Python program to concatenate all the sublists into a single flat list."
   ]
  },
  {
   "cell_type": "code",
   "execution_count": null,
   "id": "fc4be349-3384-4071-aff5-9ce9e1f0296d",
   "metadata": {},
   "outputs": [],
   "source": []
  },
  {
   "cell_type": "code",
   "execution_count": null,
   "id": "aab5ab90-a48d-4df4-9cbf-70771400d7a2",
   "metadata": {},
   "outputs": [],
   "source": [
    "\n",
    "49. Tuple Concatenation: Write a Python program to concatenate two tuples and create a new tuple."
   ]
  },
  {
   "cell_type": "code",
   "execution_count": null,
   "id": "88681eb2-cb4c-4f07-a6fd-f401a7276a18",
   "metadata": {},
   "outputs": [],
   "source": []
  },
  {
   "cell_type": "code",
   "execution_count": null,
   "id": "50d471a6-2cab-4d79-9210-9801ef9d35bb",
   "metadata": {},
   "outputs": [],
   "source": [
    "\n",
    "50. Tuple Unpacking: Given a tuple with three elements (x, y, z), write a Python program to unpack the tuple and assign the values to three variables."
   ]
  },
  {
   "cell_type": "code",
   "execution_count": null,
   "id": "415e7beb-2167-4cf7-8ac0-a7c1af6eb8bb",
   "metadata": {},
   "outputs": [],
   "source": []
  },
  {
   "cell_type": "code",
   "execution_count": null,
   "id": "601323f5-c0f6-4144-b33b-9cf6947f2e0d",
   "metadata": {},
   "outputs": [],
   "source": [
    "51. Tuple Sorting: Write a Python program to sort a tuple of integers in ascending order."
   ]
  },
  {
   "cell_type": "code",
   "execution_count": null,
   "id": "20246636-50fa-485b-8de3-90155b392081",
   "metadata": {},
   "outputs": [],
   "source": []
  },
  {
   "cell_type": "code",
   "execution_count": null,
   "id": "83d414ad-3e21-47d6-99c5-a9f67fd80008",
   "metadata": {},
   "outputs": [],
   "source": [
    "52. Tuple Frequency Count: Given a tuple containing various elements, write a Python program to count the frequency of a specific element in the tuple."
   ]
  },
  {
   "cell_type": "code",
   "execution_count": null,
   "id": "f7e63d8c-089f-423a-b6c5-ae3f7e2ae0d9",
   "metadata": {},
   "outputs": [],
   "source": []
  },
  {
   "cell_type": "code",
   "execution_count": null,
   "id": "e862b7d3-0e81-411a-8882-f526dfc9a7a3",
   "metadata": {},
   "outputs": [],
   "source": [
    "53. Tuple to List: Write a Python program to convert a tuple into a list. 54.\n",
    "    Tuple Reversal: Write a Python program to reverse a tuple without using any built-in functions."
   ]
  },
  {
   "cell_type": "code",
   "execution_count": null,
   "id": "36e65152-cc62-4f60-a5a3-3b505d42e773",
   "metadata": {},
   "outputs": [],
   "source": []
  },
  {
   "cell_type": "code",
   "execution_count": null,
   "id": "accca89c-583f-43f0-97cf-b4cdd83b2f39",
   "metadata": {},
   "outputs": [],
   "source": [
    "55. Tuple Slicing: Given a tuple, write a Python program to extract a slice of elements from it."
   ]
  },
  {
   "cell_type": "code",
   "execution_count": null,
   "id": "e23b8df1-a6ed-43ed-bf28-780d68e1c9d7",
   "metadata": {},
   "outputs": [],
   "source": []
  },
  {
   "cell_type": "code",
   "execution_count": null,
   "id": "d44a1319-3035-4364-88bd-e1a8fcf0b604",
   "metadata": {},
   "outputs": [],
   "source": [
    "56. Tuple Operations: Given two tuples of integers, write a Python program to perform element-wise \n",
    "addition, subtraction, and multiplication and create new tuples for each operation."
   ]
  },
  {
   "cell_type": "code",
   "execution_count": null,
   "id": "609affb0-d449-4e1c-80a8-3c36f140d89e",
   "metadata": {},
   "outputs": [],
   "source": []
  },
  {
   "cell_type": "code",
   "execution_count": null,
   "id": "c25f2567-c450-4393-a1c2-34e6a34f1887",
   "metadata": {},
   "outputs": [],
   "source": [
    "57. Tuple Membership Test: Write a Python program that takes an element as input and checks if it exists in a given tuple."
   ]
  },
  {
   "cell_type": "code",
   "execution_count": null,
   "id": "e1b89f6e-4021-414f-ab53-d19570f96ed5",
   "metadata": {},
   "outputs": [],
   "source": []
  },
  {
   "cell_type": "code",
   "execution_count": null,
   "id": "1edccd55-0f3b-41c6-9f3f-0d0019111a15",
   "metadata": {},
   "outputs": [],
   "source": [
    "58. Tuple Packing: Write a Python program to pack three variables into a single tuple and print the tuple."
   ]
  },
  {
   "cell_type": "code",
   "execution_count": null,
   "id": "fbb4f248-f95a-44d7-8ece-1a2ee039ddd1",
   "metadata": {},
   "outputs": [],
   "source": []
  },
  {
   "cell_type": "code",
   "execution_count": null,
   "id": "efc8f8c8-b78c-4e28-843d-ddcf251dfb70",
   "metadata": {},
   "outputs": [],
   "source": [
    "Nested List Problems:\n",
    "59. Neste List Element Access: Given a nested list, write a Python program to access and print specific elements from it."
   ]
  },
  {
   "cell_type": "code",
   "execution_count": null,
   "id": "4e87c7bf-53fd-4620-a6f6-9e113d329ad5",
   "metadata": {},
   "outputs": [],
   "source": []
  },
  {
   "cell_type": "code",
   "execution_count": null,
   "id": "77cc71a1-48ee-4b96-8480-6a27b60cbe13",
   "metadata": {},
   "outputs": [],
   "source": [
    "60. Nested List Flattening: Write a Python program to flatten a nested list and convert it into a single-dimensional list."
   ]
  },
  {
   "cell_type": "code",
   "execution_count": null,
   "id": "2b9e0f12-07ce-432a-815c-4839e7450459",
   "metadata": {},
   "outputs": [],
   "source": []
  },
  {
   "cell_type": "code",
   "execution_count": null,
   "id": "6e944756-1551-44be-bb08-d4ec4d2e5c7b",
   "metadata": {},
   "outputs": [],
   "source": [
    "61. Nested List Sorting: Given a nested list containing lists of integers, write a Python program to sort the sublists based on their lengths."
   ]
  },
  {
   "cell_type": "code",
   "execution_count": null,
   "id": "a5ea68a6-fd3b-4c60-869d-edc01f69773c",
   "metadata": {},
   "outputs": [],
   "source": []
  },
  {
   "cell_type": "code",
   "execution_count": null,
   "id": "fc30e714-215a-4c71-8e3c-37f0b17a03b5",
   "metadata": {},
   "outputs": [],
   "source": [
    "62. List of Tuples Conversion: Given a nested list \n",
    "containing tuples of (x, y) coordinates, write a Python program to convert it into a list of x-coordinates and a list of y-coordinates."
   ]
  },
  {
   "cell_type": "code",
   "execution_count": null,
   "id": "94b0b17e-9229-4818-888d-5f698dc7ba37",
   "metadata": {},
   "outputs": [],
   "source": []
  },
  {
   "cell_type": "code",
   "execution_count": null,
   "id": "9e94ae88-4f7e-470e-a59c-fe33808a8efd",
   "metadata": {},
   "outputs": [],
   "source": [
    "63. Matrix Transpose: Write a Python program to transpose a given matrix represented as a nested list."
   ]
  },
  {
   "cell_type": "code",
   "execution_count": null,
   "id": "70202db1-603d-41c7-a53b-7d1290dca449",
   "metadata": {},
   "outputs": [],
   "source": []
  },
  {
   "cell_type": "code",
   "execution_count": null,
   "id": "a5d89930-2204-4a12-866a-bdca6f564264",
   "metadata": {},
   "outputs": [],
   "source": [
    "64. Nested List Concatenation: Given a list of nested lists, write a Python program to concatenate all the sublists into a single flat list."
   ]
  },
  {
   "cell_type": "code",
   "execution_count": null,
   "id": "0483a985-150d-4f0b-aea8-6631b99a3fcc",
   "metadata": {},
   "outputs": [],
   "source": []
  },
  {
   "cell_type": "code",
   "execution_count": null,
   "id": "1f74fcbc-6c2e-4baa-af36-dc91b5034031",
   "metadata": {},
   "outputs": [],
   "source": [
    "65. Count Even Numbers: Write a Python program to count the number of even numbers in a nested list."
   ]
  },
  {
   "cell_type": "code",
   "execution_count": null,
   "id": "65f48cc8-2f1d-434c-b843-d0536043caa9",
   "metadata": {},
   "outputs": [],
   "source": []
  },
  {
   "cell_type": "code",
   "execution_count": null,
   "id": "0f3fcb01-9633-4b9d-9630-f1acd612eafd",
   "metadata": {},
   "outputs": [],
   "source": [
    "66. Maximum Element in Nested List: Write a Python program to find the maximum element in a nested list of integers.\n",
    "\n"
   ]
  },
  {
   "cell_type": "code",
   "execution_count": null,
   "id": "ed178501-a177-418a-9368-036fe0782538",
   "metadata": {},
   "outputs": [],
   "source": []
  },
  {
   "cell_type": "code",
   "execution_count": null,
   "id": "11a3cc0a-3c86-4840-84e2-6dccae98397f",
   "metadata": {},
   "outputs": [],
   "source": [
    "67. Diagonal Sum of Matrix: Given a square matrix represented as a \n",
    "nested list, write a Python program to calculate the sum of the elements in the main diagonal."
   ]
  },
  {
   "cell_type": "code",
   "execution_count": null,
   "id": "cb75fbb0-6797-44c4-9261-8f72b646b1d6",
   "metadata": {},
   "outputs": [],
   "source": []
  },
  {
   "cell_type": "code",
   "execution_count": null,
   "id": "531a1380-2fc3-4464-808c-73f9d3ba3fe4",
   "metadata": {},
   "outputs": [],
   "source": [
    "68. Nested List Element Search: Write a Python program to search for a specific element \n",
    "in a nested list and return its position (row and column indices)."
   ]
  },
  {
   "cell_type": "code",
   "execution_count": null,
   "id": "c3baae74-09e3-4b17-9755-55a793e0e055",
   "metadata": {},
   "outputs": [],
   "source": []
  },
  {
   "cell_type": "code",
   "execution_count": null,
   "id": "f4ce4393-a989-4eaf-9a9e-17e35e9a4c85",
   "metadata": {},
   "outputs": [],
   "source": [
    "69. Duplicate Removal: Write a Python program that takes a list\n",
    "of elements as input and creates a new set containing only the unique elements from the list."
   ]
  },
  {
   "cell_type": "code",
   "execution_count": null,
   "id": "531dc723-e407-4e83-8f42-636ddca4512a",
   "metadata": {},
   "outputs": [],
   "source": []
  },
  {
   "cell_type": "code",
   "execution_count": null,
   "id": "506cd580-9274-4d8e-a4fb-0d532e21d48e",
   "metadata": {},
   "outputs": [],
   "source": [
    "70. Set Intersection: Given two sets A and B, write a Python program to find their intersection and print the common elements."
   ]
  },
  {
   "cell_type": "code",
   "execution_count": null,
   "id": "d74f2613-1acf-485e-9030-95282c7fee90",
   "metadata": {},
   "outputs": [],
   "source": []
  },
  {
   "cell_type": "code",
   "execution_count": null,
   "id": "112e9ef7-edaf-495d-923a-8f27e26a4b27",
   "metadata": {},
   "outputs": [],
   "source": [
    "71. Set Union: Given two sets A and B, write a Python program to find their union and print all the distinct elements from both sets."
   ]
  },
  {
   "cell_type": "code",
   "execution_count": null,
   "id": "337c1c5c-f9f8-4a48-bd34-b4c524e707a9",
   "metadata": {},
   "outputs": [],
   "source": []
  },
  {
   "cell_type": "code",
   "execution_count": null,
   "id": "03759989-1c88-4241-873a-08dbded5b3f3",
   "metadata": {},
   "outputs": [],
   "source": [
    "72. Set Difference: Given two sets A and B, write a Python program to find the difference between\n",
    "set A and set B (i.e., elements present in A but not in B) and print the result."
   ]
  },
  {
   "cell_type": "code",
   "execution_count": null,
   "id": "8a680bbe-cce5-4a6f-a13d-272d28bf52c9",
   "metadata": {},
   "outputs": [],
   "source": []
  },
  {
   "cell_type": "code",
   "execution_count": null,
   "id": "c98ffe2c-c375-4f53-8f89-7dd5cfac077e",
   "metadata": {},
   "outputs": [],
   "source": [
    "73. Set Symmetric Difference: Given two sets \n",
    "A and B, write a Python program to find the symmetric difference between the two \n",
    "sets (i.e., elements that are present in either set A or set B, but not in both) and print the result."
   ]
  },
  {
   "cell_type": "code",
   "execution_count": null,
   "id": "ebca7399-3c83-42db-9e51-5fda5b4f5fe3",
   "metadata": {},
   "outputs": [],
   "source": []
  },
  {
   "cell_type": "code",
   "execution_count": null,
   "id": "b775bf7d-6fa2-4982-ac92-f9654cb2b08e",
   "metadata": {},
   "outputs": [],
   "source": [
    "74. Set Operations: Given three sets A, B, and C, write a Python program to find and \n",
    "print the intersection of A and B, the union of B and C, and the difference between C and A."
   ]
  },
  {
   "cell_type": "code",
   "execution_count": null,
   "id": "52c21d0e-352f-4ea1-9a8e-46a0660dd4b9",
   "metadata": {},
   "outputs": [],
   "source": []
  },
  {
   "cell_type": "code",
   "execution_count": null,
   "id": "c6c9adf7-f3dd-41ed-8c90-7b4280515aa5",
   "metadata": {},
   "outputs": [],
   "source": [
    "75. Set Subset Check: Given two sets A and B, write a Python program to check if set A is a subset of set B and print the result.\n",
    "\n"
   ]
  },
  {
   "cell_type": "code",
   "execution_count": null,
   "id": "551aff14-825b-4a6c-a26a-a0f53f1c2e87",
   "metadata": {},
   "outputs": [],
   "source": []
  },
  {
   "cell_type": "code",
   "execution_count": null,
   "id": "c9e2bf27-23d7-4d73-b19a-bb7ca1b08f2b",
   "metadata": {},
   "outputs": [],
   "source": [
    "76. Set Superset Check: Given two sets A and B, write a Python program to check if set A is a superset of set B and print the result."
   ]
  },
  {
   "cell_type": "code",
   "execution_count": null,
   "id": "e02a8eef-65d1-4b1b-bacf-60b783f19c53",
   "metadata": {},
   "outputs": [],
   "source": [
    "\n"
   ]
  },
  {
   "cell_type": "code",
   "execution_count": null,
   "id": "e9942d52-e239-4d73-9da9-ed55a2af549c",
   "metadata": {},
   "outputs": [],
   "source": [
    "77. Set Length Check: Write a Python program that takes a set as input and prints the number of elements in the set.\n",
    "\n"
   ]
  },
  {
   "cell_type": "code",
   "execution_count": null,
   "id": "a768024d-1106-467f-99b9-a5056e84356c",
   "metadata": {},
   "outputs": [],
   "source": [
    "\n"
   ]
  },
  {
   "cell_type": "code",
   "execution_count": null,
   "id": "e67feffb-feea-4bb5-96ca-09d5c5107cc6",
   "metadata": {},
   "outputs": [],
   "source": [
    "78. Dictionary Keys and Values: Write a Python program that takes a dictionary as input and prints all the keys and values in separate lines.\n"
   ]
  },
  {
   "cell_type": "code",
   "execution_count": null,
   "id": "aa26b820-a5f8-4339-b7bf-43cfda8f1932",
   "metadata": {},
   "outputs": [],
   "source": [
    "\n"
   ]
  },
  {
   "cell_type": "code",
   "execution_count": null,
   "id": "54f2dbfb-2383-4bd2-82ce-0eb4adcda8ff",
   "metadata": {},
   "outputs": [],
   "source": [
    "79. Dictionary Length: Write a Python program to calculate and print the number of key-value pairs in a given dictionary.\n"
   ]
  },
  {
   "cell_type": "code",
   "execution_count": null,
   "id": "b309bb62-8968-43ef-a944-e086a009d456",
   "metadata": {},
   "outputs": [],
   "source": [
    "\n"
   ]
  },
  {
   "cell_type": "code",
   "execution_count": null,
   "id": "ef9b1fc1-afe7-48f5-ac55-4572ba7e0b11",
   "metadata": {},
   "outputs": [],
   "source": [
    "80. Dictionary Value Search: Given a dictionary of items\n",
    "and their prices, write a Python program to search for an item based on its price and print the item’s name.\n"
   ]
  },
  {
   "cell_type": "code",
   "execution_count": null,
   "id": "ceff6f30-ee5e-4c8a-a1d6-94ba64abf2d3",
   "metadata": {},
   "outputs": [],
   "source": [
    "\n"
   ]
  },
  {
   "cell_type": "code",
   "execution_count": null,
   "id": "e553eb33-0562-40c7-bc9e-7bb0740e5f72",
   "metadata": {},
   "outputs": [],
   "source": [
    "\n",
    "81. Dictionary Merging: Given two dictionaries, write a Python program to merge them into a single dictionary and print the result."
   ]
  },
  {
   "cell_type": "code",
   "execution_count": null,
   "id": "57eb8464-6df8-4bb3-96a5-1dc8a2b583fd",
   "metadata": {},
   "outputs": [],
   "source": [
    "\n"
   ]
  },
  {
   "cell_type": "code",
   "execution_count": null,
   "id": "331331aa-1c34-4374-9a11-61cc89996ce6",
   "metadata": {},
   "outputs": [],
   "source": [
    "82. Dictionary Key Removal: Given a dictionary of items and their quantities, write a Python program to remove a specific item from the dictionary based on user input.\n",
    "\n",
    "\n"
   ]
  },
  {
   "cell_type": "code",
   "execution_count": null,
   "id": "202728ec-4b76-4013-9a6e-d2edcd7c2fc4",
   "metadata": {},
   "outputs": [],
   "source": [
    "\n"
   ]
  },
  {
   "cell_type": "code",
   "execution_count": null,
   "id": "734c9ef6-0cf8-4620-b359-52bc72954b3e",
   "metadata": {},
   "outputs": [],
   "source": [
    "83. Dictionary Sorting: Given a dictionary with names as keys and corresponding ages as values, \n",
    "write a Python program to sort the dictionary based on age in ascending order."
   ]
  },
  {
   "cell_type": "code",
   "execution_count": null,
   "id": "96de4cf5-c458-481b-8746-5eb90381711f",
   "metadata": {},
   "outputs": [],
   "source": [
    "\n"
   ]
  },
  {
   "cell_type": "code",
   "execution_count": null,
   "id": "567c2b21-9750-4741-a4f5-ce8c6fc3121d",
   "metadata": {},
   "outputs": [],
   "source": [
    "84. Dictionary Frequency Count: Write a Python\n",
    "program that takes a string as input and creates a dictionary containing each character as a key and its frequency as the value."
   ]
  },
  {
   "cell_type": "code",
   "execution_count": null,
   "id": "82f0e0d0-134c-486d-8085-bd95487fee8f",
   "metadata": {},
   "outputs": [],
   "source": [
    "\n"
   ]
  },
  {
   "cell_type": "code",
   "execution_count": null,
   "id": "831e75b9-c94a-4b13-8271-fb2c55644aa1",
   "metadata": {},
   "outputs": [],
   "source": [
    "85. Dictionary Comprehension: Given a list of integers, write a Python program to create a dictionary \n",
    "where the keys are the elements from the list, and the values are their squares."
   ]
  },
  {
   "cell_type": "code",
   "execution_count": null,
   "id": "49c71713-694b-466b-bf74-0fb10a9d9c20",
   "metadata": {},
   "outputs": [],
   "source": [
    "\n"
   ]
  },
  {
   "cell_type": "code",
   "execution_count": null,
   "id": "b155a919-2b4e-4d2c-b7f1-52efc8a5f452",
   "metadata": {},
   "outputs": [],
   "source": [
    "86. Dictionary Key Check: Write a Python program that takes a key as input \n",
    "and checks if it exists in a given dictionary. Print “Key Found” if the key is present and “Key Not Found” otherwise."
   ]
  },
  {
   "cell_type": "code",
   "execution_count": null,
   "id": "aa510afb-1dc9-4398-9ff5-0c1ebbd642c8",
   "metadata": {},
   "outputs": [],
   "source": [
    "\n"
   ]
  },
  {
   "cell_type": "code",
   "execution_count": null,
   "id": "21014cf4-cfc5-46b1-b219-55ef6e8d4d2c",
   "metadata": {},
   "outputs": [],
   "source": [
    "87. Access Nested Dictionary: Given a nested dictionary containing student details, write a Python\n",
    "program to access and print specific information such as a student’s name, age, and address.\n"
   ]
  },
  {
   "cell_type": "code",
   "execution_count": null,
   "id": "7ffffafc-62db-4008-84e9-4c70853fa1ed",
   "metadata": {},
   "outputs": [],
   "source": []
  },
  {
   "cell_type": "code",
   "execution_count": null,
   "id": "b063d1c4-10e0-448c-b5e0-d55bc3a37e17",
   "metadata": {},
   "outputs": [],
   "source": [
    "88. Nested Dictionary Length: Write a Python program to calculate and print the total number of key-value pairs in a nested dictionary.\n",
    "\n"
   ]
  },
  {
   "cell_type": "code",
   "execution_count": null,
   "id": "6716eaf3-0269-46ce-a5fa-72022ad6ab61",
   "metadata": {},
   "outputs": [],
   "source": []
  },
  {
   "cell_type": "code",
   "execution_count": null,
   "id": "c3809c76-c357-489e-b3dc-84e2bdf7a8bb",
   "metadata": {},
   "outputs": [],
   "source": [
    "89. Nested Dictionary Update: Given a nested dictionary of employee details, write a\n",
    "Python program to update an employee’s salary based on their employee ID."
   ]
  },
  {
   "cell_type": "code",
   "execution_count": null,
   "id": "7a5c4954-7fb7-4130-883d-e66c56088d6f",
   "metadata": {},
   "outputs": [],
   "source": []
  },
  {
   "cell_type": "code",
   "execution_count": null,
   "id": "f5471565-1200-425b-9b07-3298b26e6506",
   "metadata": {},
   "outputs": [],
   "source": [
    "90. Nested Dictionary Sorting: Given a nested dictionary containing product details (product name, price, and quantity), write a Python \n",
    "program to sort the products based on their prices in ascending order."
   ]
  },
  {
   "cell_type": "code",
   "execution_count": null,
   "id": "5a6a23bf-d37a-4808-b5a5-ce0ef621ff56",
   "metadata": {},
   "outputs": [],
   "source": []
  },
  {
   "cell_type": "code",
   "execution_count": null,
   "id": "4064efd7-bfb6-4505-b863-d9b37d71edb9",
   "metadata": {},
   "outputs": [],
   "source": [
    "91. Nested Dictionary Key Search: Write a Python program that takes a key as input and searches for it in \n",
    "a nested dictionary. If found, print the corresponding value, otherwise, print “Key Not Found.”"
   ]
  },
  {
   "cell_type": "code",
   "execution_count": null,
   "id": "24865fb3-9609-482e-98c7-4062371b1e9f",
   "metadata": {},
   "outputs": [],
   "source": []
  },
  {
   "cell_type": "code",
   "execution_count": null,
   "id": "2fa44456-3229-479e-906a-4d1792b8652a",
   "metadata": {},
   "outputs": [],
   "source": [
    "92. Prime Number Checker: Write a Python program that takes a number as input and determines \n",
    "if it is a prime number or not. Use a `for` loop to check for factors. If a factor is found, `break` out of the loop."
   ]
  },
  {
   "cell_type": "code",
   "execution_count": null,
   "id": "27e1b424-447c-4c0d-81c2-6462f80260d0",
   "metadata": {},
   "outputs": [],
   "source": [
    "\n"
   ]
  },
  {
   "cell_type": "code",
   "execution_count": null,
   "id": "ec76925e-eadd-4f07-9d13-9eee24a632ca",
   "metadata": {},
   "outputs": [],
   "source": [
    "93. Even Number Printer: Write a Python program to print all even numbers from 1 to 20. Use a `for` loop and `continue` to skip odd numbers."
   ]
  },
  {
   "cell_type": "code",
   "execution_count": null,
   "id": "115bec37-89ed-481d-8884-86cc0f1eb198",
   "metadata": {},
   "outputs": [],
   "source": [
    "\n"
   ]
  },
  {
   "cell_type": "code",
   "execution_count": null,
   "id": "fb6cee3d-d93f-4992-8016-d0c2ef441409",
   "metadata": {},
   "outputs": [],
   "source": [
    "94. Password Validator: Write a Python program that takes a password as input and checks if it meets the following criteria: at least 8 characters long, contains both uppercase and lowercase letters, and has at least one digit. If the password \n",
    "is valid, print “Password accepted.” If not, use `continue` to prompt the user to enter a valid password."
   ]
  },
  {
   "cell_type": "code",
   "execution_count": null,
   "id": "165c7318-3966-43a7-a963-66ff6de90dcd",
   "metadata": {},
   "outputs": [],
   "source": [
    "\n"
   ]
  },
  {
   "cell_type": "code",
   "execution_count": null,
   "id": "58a00fe7-2724-4617-95ca-d240f8f9318e",
   "metadata": {},
   "outputs": [],
   "source": [
    "95. Divisible by 3 or 5: Write a Python program to print all numbers from 1 to\n",
    "50 that are divisible by either 3 or 5. Use a `for` loop and `continue` to skip numbers that are not divisible by either 3 or 5."
   ]
  },
  {
   "cell_type": "code",
   "execution_count": null,
   "id": "49a0ec35-c5e8-4bc2-8c42-8a1696a914e9",
   "metadata": {},
   "outputs": [],
   "source": [
    "\n"
   ]
  },
  {
   "cell_type": "code",
   "execution_count": null,
   "id": "d412b5b2-9520-496d-916b-b642f1b60852",
   "metadata": {},
   "outputs": [],
   "source": [
    "96. Positive Number Sum: Write a Python program that takes positive numbers as input until a negative number is entered. Then, calculate and print the sum of \n",
    "all positive numbers entered. Use a `while` loop and `break` to exit the loop when a negative number is encountered."
   ]
  },
  {
   "cell_type": "code",
   "execution_count": null,
   "id": "f9def07c-5362-49e9-9882-ff0cf1416075",
   "metadata": {},
   "outputs": [],
   "source": [
    "\n"
   ]
  },
  {
   "cell_type": "code",
   "execution_count": null,
   "id": "aea9d536-6679-463e-a9ec-7e12eee11a9a",
   "metadata": {},
   "outputs": [],
   "source": [
    "97. Word Palindrome Checker: Write a Python program that takes a word as input and checks if it \n",
    "is a palindrome (reads the same forwards and backward). Use `continue` to skip checking the word if its length is less than 3 characters."
   ]
  },
  {
   "cell_type": "code",
   "execution_count": null,
   "id": "3deea479-b5b1-42a5-8a50-7ed6cfe2819a",
   "metadata": {},
   "outputs": [],
   "source": [
    "\n",
    "\n"
   ]
  },
  {
   "cell_type": "code",
   "execution_count": null,
   "id": "6956a32b-c62e-44f5-88fa-7c2296a72d1d",
   "metadata": {},
   "outputs": [],
   "source": [
    "98. Odd Number Finder: Write a Python program to find \n",
    "the first odd number from a list of integers. Use a `for` loop and `break` to stop the loop when the first odd number is found.\n"
   ]
  },
  {
   "cell_type": "code",
   "execution_count": null,
   "id": "0fa77916-3ec5-4aca-9b48-c29e3dedc651",
   "metadata": {},
   "outputs": [],
   "source": [
    "\n"
   ]
  },
  {
   "cell_type": "code",
   "execution_count": null,
   "id": "3b3e9fdc-0dbd-491b-8475-536a48fe1c24",
   "metadata": {},
   "outputs": [],
   "source": [
    "99. Number Guessing Game: Write a Python program that generates a random number between 1 and 100 and lets the user guess the number.\n",
    "    Use a `while` loop, \n",
    "`break` when the correct number is guessed, and `continue` to keep prompting the user until they guess correctly."
   ]
  },
  {
   "cell_type": "code",
   "execution_count": null,
   "id": "56e21f19-a77a-44ca-ae02-f5304a381dab",
   "metadata": {},
   "outputs": [],
   "source": [
    "\n",
    "\n"
   ]
  },
  {
   "cell_type": "code",
   "execution_count": null,
   "id": "c4f011a0-652a-44bb-9cfa-b4d95a91c3bb",
   "metadata": {},
   "outputs": [],
   "source": [
    "100. Vowel Counter: Write a Python program that takes a string as input and counts \n",
    "the number of vowels (a, e, i, o, u) in it. Use a `for` loop and `continue` to skip counting non-vowel characters."
   ]
  },
  {
   "cell_type": "code",
   "execution_count": null,
   "id": "d68c008f-2899-48ba-b8cc-bdf1cbc0acc5",
   "metadata": {},
   "outputs": [],
   "source": []
  },
  {
   "cell_type": "code",
   "execution_count": null,
   "id": "73a83686-050c-4b15-b9fc-683d07e0ee5e",
   "metadata": {},
   "outputs": [],
   "source": [
    "101. Unique Characters: Write a Python program that takes a string as input and checks if it contains all\n",
    "unique characters (no character repeats). Use a `for` loop and `break` when a character repeats."
   ]
  },
  {
   "cell_type": "code",
   "execution_count": null,
   "id": "7b1238cf-c69a-4ec9-857c-04879b6f3dd5",
   "metadata": {},
   "outputs": [],
   "source": []
  },
  {
   "cell_type": "code",
   "execution_count": null,
   "id": "a43bdf5b-ef71-4271-894d-ca25c4df2def",
   "metadata": {},
   "outputs": [],
   "source": [
    "102. Factorial Calculator: Write a Python function called `factorial` that \n",
    "takes an integer as input and returns its factorial. Test the function with different values."
   ]
  },
  {
   "cell_type": "code",
   "execution_count": null,
   "id": "30c0f9f3-ec57-4035-9226-e5bd4fe5622f",
   "metadata": {},
   "outputs": [],
   "source": []
  },
  {
   "cell_type": "code",
   "execution_count": null,
   "id": "0eda170f-167c-484f-90fa-c4c160662ee5",
   "metadata": {},
   "outputs": [],
   "source": [
    "103. Palindrome Checker: Write a Python function called `is_palindrome` that takes a string as \n",
    "input and returns `True` if it is a palindrome and `False` otherwise. Test the function with different words."
   ]
  },
  {
   "cell_type": "code",
   "execution_count": null,
   "id": "3c50ca07-15af-433b-9f08-a4bcb8a755fd",
   "metadata": {},
   "outputs": [],
   "source": []
  },
  {
   "cell_type": "code",
   "execution_count": null,
   "id": "3348e670-4b73-4a34-8778-5388b5f38cdf",
   "metadata": {},
   "outputs": [],
   "source": [
    "104. Even or Odd Checker: Write a Python function called `even_or_odd` that takes \n",
    "an integer as input and returns “Even” if the number is even and “Odd” if the number is odd. Test the function with different numbers."
   ]
  },
  {
   "cell_type": "code",
   "execution_count": null,
   "id": "629445f2-27f3-44cf-a819-33fb38d36bd7",
   "metadata": {},
   "outputs": [],
   "source": []
  },
  {
   "cell_type": "code",
   "execution_count": null,
   "id": "4642eeb4-098b-4b6e-ba8a-e18309a5680c",
   "metadata": {},
   "outputs": [],
   "source": [
    "105. List Sum Calculator: Write a Python function\n",
    "called `list_sum` that takes a list of integers as input and returns the sum of all elements in the list. Test the function with different lists."
   ]
  },
  {
   "cell_type": "code",
   "execution_count": null,
   "id": "8da19352-fa39-42f8-9097-4ed7e451523e",
   "metadata": {},
   "outputs": [],
   "source": []
  },
  {
   "cell_type": "code",
   "execution_count": null,
   "id": "1c6c00a3-4b72-4712-9b62-5488773644ff",
   "metadata": {},
   "outputs": [],
   "source": [
    "106. Greatest Common Divisor (GCD) Calculator: Write a Python function called `gcd`\n",
    "that takes two integers as input and returns their greatest common divisor. Test the function with different pairs of numbers."
   ]
  },
  {
   "cell_type": "code",
   "execution_count": null,
   "id": "6d91068d-8b7f-4116-a908-c930b7408467",
   "metadata": {},
   "outputs": [],
   "source": []
  },
  {
   "cell_type": "code",
   "execution_count": null,
   "id": "c6d492a4-1ff4-4298-8129-ace9d5c86a51",
   "metadata": {},
   "outputs": [],
   "source": [
    "107. Leap Year Checker: Write a Python function called `is_leap_year` that \n",
    "takes a year as input and returns `True` if it is a leap year and `False` otherwise. Test the function with different years."
   ]
  },
  {
   "cell_type": "code",
   "execution_count": null,
   "id": "88d926a3-be79-4a9b-b0a3-43069bb1caa2",
   "metadata": {},
   "outputs": [],
   "source": []
  },
  {
   "cell_type": "code",
   "execution_count": null,
   "id": "abfb1b2c-02b0-4709-b581-080acb099207",
   "metadata": {},
   "outputs": [],
   "source": [
    "108. Math Operations: Write a Python function called `math_operations` that takes three numbers and a\n",
    "string representing an operation (‘add’, ‘subtract’, ‘multiply’, or ‘divide’). The function \n",
    "should return the result of the specified operation on the three numbers. Implement the math operations as nested functions."
   ]
  },
  {
   "cell_type": "code",
   "execution_count": null,
   "id": "2a3d4188-760c-4c1f-89cb-1a03ba18937b",
   "metadata": {},
   "outputs": [],
   "source": []
  },
  {
   "cell_type": "code",
   "execution_count": null,
   "id": "061e721a-2b7d-4ee6-a23e-7da3a1b3aafb",
   "metadata": {},
   "outputs": [],
   "source": [
    "109. Greeting Generator: Write a Python function called `greeting_generator` that takes a name as input and returns\n",
    "a greeting message using nested functions. The greeting message should be customizable (e.g., “Hello, {name}! How are you today?”)."
   ]
  },
  {
   "cell_type": "code",
   "execution_count": null,
   "id": "4e6b7de5-6ea8-4681-b1d2-604bc2333f04",
   "metadata": {},
   "outputs": [],
   "source": []
  },
  {
   "cell_type": "code",
   "execution_count": null,
   "id": "2f8c7262-610d-4c7d-ba35-f3e14a6dfb8d",
   "metadata": {},
   "outputs": [],
   "source": [
    "110. Temperature Converter: Write a Python function called `temperature_converter` that takes a temperature value and\n",
    "a string representing the scale (‘C’ for Celsius or ‘F’ for Fahrenheit) as input. \n",
    "    The function should convert the temperature from one scale to the other using nested functions and return the converted value."
   ]
  },
  {
   "cell_type": "code",
   "execution_count": null,
   "id": "ba7f338a-20d1-449a-93e2-3a9ea68a4bb6",
   "metadata": {},
   "outputs": [],
   "source": []
  },
  {
   "cell_type": "code",
   "execution_count": null,
   "id": "d57da75d-3896-4bdf-8f1e-76a11cdb1d76",
   "metadata": {},
   "outputs": [],
   "source": [
    "111. Factorial Calculation: Write a recursive Python function called `factorial` that takes a non-negative\n",
    "integer as input and returns its factorial."
   ]
  },
  {
   "cell_type": "code",
   "execution_count": null,
   "id": "4a762af8-6520-42f7-8385-861a46b15b34",
   "metadata": {},
   "outputs": [],
   "source": []
  },
  {
   "cell_type": "code",
   "execution_count": null,
   "id": "880080a0-9b97-4c64-b146-c14151aa1da8",
   "metadata": {},
   "outputs": [],
   "source": [
    "112. Fibonacci Series: Write a recursive Python function called \n",
    "`Fibonacci` that takes an integer N as input and returns the Nth number in the Fibonacci series. The Fibonacci \n",
    "series is defined as follows: F(0) = 0, F(1) = 1, and F(n) = F(n-1) + F(n-2) for n > 1."
   ]
  },
  {
   "cell_type": "code",
   "execution_count": null,
   "id": "d41b8497-69ed-4d77-92cb-f7314326648a",
   "metadata": {},
   "outputs": [],
   "source": []
  },
  {
   "cell_type": "code",
   "execution_count": null,
   "id": "155f3cf2-233a-4ab2-9aaf-216bcbebf71b",
   "metadata": {},
   "outputs": [],
   "source": [
    "113. The sum of Digits: Write a recursive Python function called `sum_of_digits` that takes an integer as input and returns the sum of its digits.\n",
    "\n"
   ]
  },
  {
   "cell_type": "code",
   "execution_count": null,
   "id": "7cf5c766-9293-4180-b0b4-c15c92223a3e",
   "metadata": {},
   "outputs": [],
   "source": []
  },
  {
   "cell_type": "code",
   "execution_count": null,
   "id": "24ccd303-e5a1-4d56-82bc-8390bed44f15",
   "metadata": {},
   "outputs": [],
   "source": [
    "114. Binary Search: Write a recursive Python function called `binary_search` that takes a sorted \n",
    "list and a target value as input and returns the index of the target value \n",
    "in the list using binary search. If the target value is not in the list, return -1."
   ]
  },
  {
   "cell_type": "code",
   "execution_count": null,
   "id": "ee6bcb9e-1ed6-4555-9589-d995f7428305",
   "metadata": {},
   "outputs": [],
   "source": []
  },
  {
   "cell_type": "code",
   "execution_count": null,
   "id": "2d7437fe-30c8-454a-b4d9-6b67c3dfcef3",
   "metadata": {},
   "outputs": [],
   "source": [
    "115. Power Calculation: Write a recursive Python function called `power` that takes two positive integers, \n",
    "base and exponent, as input and returns the value of base raised to the exponent."
   ]
  },
  {
   "cell_type": "code",
   "execution_count": null,
   "id": "7cf4c6ee-a566-4feb-9c77-e315e3baff2e",
   "metadata": {},
   "outputs": [],
   "source": []
  }
 ],
 "metadata": {
  "kernelspec": {
   "display_name": "Python 3 (ipykernel)",
   "language": "python",
   "name": "python3"
  },
  "language_info": {
   "codemirror_mode": {
    "name": "ipython",
    "version": 3
   },
   "file_extension": ".py",
   "mimetype": "text/x-python",
   "name": "python",
   "nbconvert_exporter": "python",
   "pygments_lexer": "ipython3",
   "version": "3.13.5"
  }
 },
 "nbformat": 4,
 "nbformat_minor": 5
}
